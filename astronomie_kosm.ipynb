{
 "cells": [
  {
   "cell_type": "markdown",
   "id": "9ff72fc7",
   "metadata": {},
   "source": [
    "# Astronomie - Die kosmische Perspektive\n",
    "3rd. Edition "
   ]
  },
  {
   "cell_type": "code",
   "execution_count": 1,
   "id": "a3264f12",
   "metadata": {},
   "outputs": [],
   "source": [
    "import math\n"
   ]
  },
  {
   "cell_type": "code",
   "execution_count": 2,
   "id": "07d6bfee",
   "metadata": {},
   "outputs": [],
   "source": [
    "# Gravitational constant\n",
    "_G = 6.674 * math.pow(10, -11)\n",
    "\n",
    "# Speed of light (m/s)\n",
    "_c = 3 * math.pow(10, 8)\n",
    "\n",
    "# Planck constant\n",
    "_h = 6.626 * math.pow(10, -34)\n",
    "\n",
    "# Stefan-Boltzmann constant\n",
    "_sigma = 5.7 * math.pow(10, -8)\n",
    "\n",
    "# Boltzmann constant\n",
    "_k = 1.38 * math.pow(10, -23)\n",
    "\n",
    "\n",
    "def scientific_print(arg: float) -> float:\n",
    "    print(\"{:.2e}\".format(arg))\n"
   ]
  },
  {
   "cell_type": "markdown",
   "id": "ebf62297",
   "metadata": {},
   "source": [
    "## Chapter 4 - Basics\n",
    "\n",
    "- Momentum & Force\n",
    "- Newton's law of motion\n",
    "- Conservation laws: Conservation of...\n",
    "    -  liear momentum\n",
    "    - angular momentum\n",
    "    - energy"
   ]
  },
  {
   "cell_type": "markdown",
   "id": "351930cd",
   "metadata": {},
   "source": [
    "#### Example 4.1 - 4.4\n",
    "\n",
    "- Newtons 2.nd law \n",
    "    - `F = m * a`\n",
    "- Mass equivalence\n",
    "    - `E = m * c^2`\n",
    "- Escape velocity\n",
    "    - `v_esc = sqrt( 2 * G * M/R )`\n",
    "- Kepler’s 3.rd law (newton)\n",
    "    - `p^2 = (4 * pi^2) / (G * (M_1 + M_1)) * a^3`\n",
    "    - calc mass or distance\n"
   ]
  },
  {
   "cell_type": "code",
   "execution_count": 3,
   "id": "a4f5a591",
   "metadata": {},
   "outputs": [
    {
     "name": "stdout",
     "output_type": "stream",
     "text": [
      "2.40e+03\n"
     ]
    }
   ],
   "source": [
    "# Examples 4.4\n",
    "def calc_escape_velocity(mass: float, radius: float) -> float:\n",
    "    \"\"\"\n",
    "    Escape velocity in km/s\n",
    "    \"\"\"\n",
    "\n",
    "    v_esc = math.sqrt(2 * _G * mass/radius)\n",
    "    return v_esc\n",
    "\n",
    "\n",
    "moon_mass = 7.346 * 10**22\n",
    "moon_radius = 1.7 * 10**6\n",
    "scientific_print(calc_escape_velocity(moon_mass, moon_radius))\n"
   ]
  },
  {
   "cell_type": "markdown",
   "id": "f4352235",
   "metadata": {},
   "source": [
    "#### Example 4.5\n",
    "\n",
    "- Gravitational acceleration\n",
    "    - `a_small = G * (M_big / R^2_big)`  .... e.g. satalite - earth"
   ]
  },
  {
   "cell_type": "code",
   "execution_count": 4,
   "id": "0e7ecbaf",
   "metadata": {},
   "outputs": [
    {
     "name": "stdout",
     "output_type": "stream",
     "text": [
      "9.78e+00\n"
     ]
    }
   ],
   "source": [
    "def calc_gravitational_acceleration(mass: float, radius: float) -> float:\n",
    "    \"\"\"\n",
    "    Calculates gravitational acceleration \n",
    "\n",
    "    Parameters\n",
    "    ----------\n",
    "    - mass of the object [kg]\n",
    "    - radius of the object [m]\n",
    "\n",
    "    Returns\n",
    "    -------\n",
    "    gravitational acceleration [m/s] \n",
    "\n",
    "    \"\"\"\n",
    "\n",
    "    return _G * mass / radius**2\n",
    "\n",
    "\n",
    "mass_earth = 6.0 * math.pow(10, 24)\n",
    "radius_earth = 6.4 * math.pow(10, 6)\n",
    "scientific_print(calc_gravitational_acceleration(mass_earth, radius_earth))\n"
   ]
  },
  {
   "cell_type": "markdown",
   "id": "49e3914d",
   "metadata": {
    "tags": []
   },
   "source": [
    "## Chapter 5 - Light and matter"
   ]
  },
  {
   "cell_type": "markdown",
   "id": "690acea5-9e3e-469e-92aa-55532f64713b",
   "metadata": {},
   "source": [
    " #### Example 5.1\n",
    " \n",
    " Wavelength, Frequency and Energie (p.199)\n",
    "\n",
    " - Vakuum Lichtgeschwindigkeit: \n",
    "   - `lambda * f = c`\n",
    "- Strahlungsenergie eines Photons: \n",
    "  - `E = h * f`"
   ]
  },
  {
   "cell_type": "code",
   "execution_count": 5,
   "id": "a5d40b85",
   "metadata": {},
   "outputs": [
    {
     "name": "stdout",
     "output_type": "stream",
     "text": [
      "3.22e+00\n",
      "5.45e+14\n",
      "3.61e-19\n"
     ]
    }
   ],
   "source": [
    "def calc_wavelength_from_freq(radio_frequency: float) -> float:\n",
    "    '''\n",
    "    Input in MHz\n",
    "    '''\n",
    "    frequency = radio_frequency * 10**6\n",
    "    return _c / frequency\n",
    "\n",
    "\n",
    "def calc_freq_from_wavelength(arg: float) -> float:\n",
    "    '''\n",
    "    Input wavelenght in nm\n",
    "    '''\n",
    "    wavelength = arg * 10**-9\n",
    "    return _c / wavelength\n",
    "\n",
    "\n",
    "def calc_energie_from_wwavelength(arg: float) -> float:\n",
    "    '''\n",
    "    Input wavelenght in nm\n",
    "    '''\n",
    "    wavelength = arg * 10**-9\n",
    "    return _h * _c / wavelength\n",
    "\n",
    "\n",
    "# Examples 5.1\n",
    "scientific_print(calc_wavelength_from_freq(93.3))\n",
    "scientific_print(calc_freq_from_wavelength(550))\n",
    "scientific_print(calc_energie_from_wwavelength(550))\n"
   ]
  },
  {
   "cell_type": "markdown",
   "id": "8802f968",
   "metadata": {},
   "source": [
    "#### Example 5.2 \n",
    " \n",
    "Thermal Radiation (p.217)\n",
    "\n",
    "- **Stefan-Boltzmann-law**\n",
    "  - `P = sigma * A * T^4`\n",
    "  - sigma... Stefan-Boltzmann constant\n",
    "  \n",
    "- **Wien's displacement law**\n",
    "  - `lambda_max = 2900000 / T/K`"
   ]
  },
  {
   "cell_type": "code",
   "execution_count": 6,
   "id": "f9411a1a",
   "metadata": {},
   "outputs": [
    {
     "name": "stdout",
     "output_type": "stream",
     "text": [
      "5.70e+08\n",
      "2.90e+02\n"
     ]
    }
   ],
   "source": [
    "def radiant_flux(temperature: float) -> float:\n",
    "    \"\"\"\n",
    "    Calculating radiant flux by Stefan-Boltzmann law\n",
    "\n",
    "    Parameters\n",
    "    ----------\n",
    "    Temperature in kelvin\n",
    "\n",
    "    Returns\n",
    "    -------\n",
    "    Radiant flux in [W/m^2]\n",
    "    \"\"\"\n",
    "    return _sigma * temperature**4\n",
    "\n",
    "\n",
    "def max_intensity_wavelength(temperature: float) -> float:\n",
    "    \"\"\"\n",
    "    Parameters\n",
    "    ----------\n",
    "    Temperature in kelvin\n",
    "\n",
    "    Returns\n",
    "    -------\n",
    "    Wavelength of maximum radiant flux\n",
    "    \"\"\"\n",
    "    return 2900000 / temperature\n",
    "\n",
    "\n",
    "# Examples 5.2\n",
    "scientific_print(radiant_flux(10000))\n",
    "scientific_print(max_intensity_wavelength(10000))\n"
   ]
  },
  {
   "cell_type": "markdown",
   "id": "fb4a3bc9",
   "metadata": {},
   "source": [
    "# Chapter 14 - Nuclear fusion in stars"
   ]
  },
  {
   "cell_type": "code",
   "execution_count": 7,
   "id": "3b6d3b86",
   "metadata": {},
   "outputs": [],
   "source": [
    "# Proton mass\n",
    "p_m = 1.6726 * math.pow(10, -27)\n",
    "\n",
    "# Helium-4 nucleus --> \"mass defect\" of binding energy of nucleons\n",
    "h_nuc = 6.643 * math.pow(10, -27)\n",
    "\n",
    "# Luminosity of sun (total amount of electromagnetic energy emitted per unit of time [Joule/sec])\n",
    "l_sun = 3.8 * math.pow(10, 26)\n"
   ]
  },
  {
   "cell_type": "markdown",
   "id": "cc631faf",
   "metadata": {},
   "source": [
    "#### Example 14.1\n",
    "\n",
    "- Mass-energie conversion during nuclear fusion\n",
    "\n",
    "- *Luminosity of the sun*\n",
    "\n",
    "        - https://www.zum.de/Faecher/Materialien/gebhardt/astronomie/leuchtkraft.html"
   ]
  },
  {
   "cell_type": "code",
   "execution_count": 8,
   "id": "481dac11-6058-41e0-b091-544e66e5acfc",
   "metadata": {},
   "outputs": [
    {
     "name": "stdout",
     "output_type": "stream",
     "text": [
      "7.08e-01\n",
      "5.96e+11\n"
     ]
    }
   ],
   "source": [
    "# Relative mass loss during hydrogen-fusion\n",
    "def calc_parts_hydrogen_fusioned():\n",
    "    \"\"\"\n",
    "    Parts of hydrogen converted to energie during fusion\n",
    "    \"\"\"\n",
    "    diff = 4 * p_m - h_nuc\n",
    "    return (diff)/(4 * p_m)\n",
    "\n",
    "\n",
    "def calc_ammount_oxygen_to_helium():\n",
    "    \"\"\"\n",
    "    Ammount of hydrogen fusioned to helium each second \n",
    "    \"\"\"\n",
    "\n",
    "    # total mass that is converted to energie each second\n",
    "    mass_to_energie = l_sun / (_c**2)\n",
    "\n",
    "    return mass_to_energie / calc_parts_hydrogen_fusioned()\n",
    "\n",
    "\n",
    "# 0.7% of origin proton mass is converted to energy\n",
    "scientific_print(calc_parts_hydrogen_fusioned()*100)\n",
    "\n",
    "# Example 14.1 - 1\n",
    "scientific_print(calc_ammount_oxygen_to_helium())\n"
   ]
  },
  {
   "cell_type": "markdown",
   "id": "823568f3",
   "metadata": {},
   "source": [
    "#### Example 14.2\n",
    "\n",
    "- Ideal gas law\n",
    "  - `P = n * k * T`\n",
    "  - P ...pressure\n",
    "  - n ...ammount particles per volumen (cm^3)\n",
    "  - T ...temperature\n",
    "  - k ...Boltzmann-Constant"
   ]
  },
  {
   "cell_type": "code",
   "execution_count": 9,
   "id": "e50f30cb",
   "metadata": {},
   "outputs": [
    {
     "name": "stdout",
     "output_type": "stream",
     "text": [
      "2.07e+10\n"
     ]
    }
   ],
   "source": [
    "def calc_pressure_in_gas(particles_per_volume: float, temperature: float) -> float:\n",
    "    return particles_per_volume * _k * temperature\n",
    "\n",
    "\n",
    "# Example 14.2\n",
    "scientific_print(calc_pressure_in_gas(10**26, 1.5 * math.pow(10, 7)))\n"
   ]
  },
  {
   "cell_type": "code",
   "execution_count": null,
   "id": "6be5ae20",
   "metadata": {},
   "outputs": [],
   "source": []
  },
  {
   "cell_type": "code",
   "execution_count": null,
   "id": "71b93a30",
   "metadata": {},
   "outputs": [],
   "source": []
  }
 ],
 "metadata": {
  "kernelspec": {
   "display_name": "Python 3 (ipykernel)",
   "language": "python",
   "name": "python3"
  },
  "language_info": {
   "codemirror_mode": {
    "name": "ipython",
    "version": 3
   },
   "file_extension": ".py",
   "mimetype": "text/x-python",
   "name": "python",
   "nbconvert_exporter": "python",
   "pygments_lexer": "ipython3",
   "version": "3.10.4"
  }
 },
 "nbformat": 4,
 "nbformat_minor": 5
}
