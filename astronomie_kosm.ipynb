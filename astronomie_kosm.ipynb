{
 "cells": [
  {
   "cell_type": "markdown",
   "id": "9ff72fc7",
   "metadata": {},
   "source": [
    "# Astronomie - Die kosmische Perspektive\n",
    "3rd. Edition "
   ]
  },
  {
   "cell_type": "markdown",
   "id": "49e3914d",
   "metadata": {
    "tags": []
   },
   "source": [
    "## Chapter 5\n",
    "Licht und Materie"
   ]
  },
  {
   "cell_type": "code",
   "execution_count": 2,
   "id": "7867764e",
   "metadata": {},
   "outputs": [],
   "source": [
    "import math\n",
    "\n",
    "\n",
    "# Speed of light\n",
    "_c = 3 * math.pow(10, 8)\n",
    "\n",
    "# Planck constant\n",
    "_h = 6.626 * math.pow(10, -34)\n",
    "\n",
    "# Stefan-Boltzmann constant   \n",
    "_sigma = 5.7 * math.pow(10, -8)     \n",
    "\n",
    "\n",
    "def scientific_print(arg: float) -> float:\n",
    "    print(\"{:.2e}\".format(arg))"
   ]
  },
  {
   "cell_type": "markdown",
   "id": "690acea5-9e3e-469e-92aa-55532f64713b",
   "metadata": {},
   "source": [
    " ### Example 5.1\n",
    " \n",
    " Wavelength, Frequency and Energie (p.199)\n",
    "\n",
    " - Vakuum Lichtgeschwindigkeit: \n",
    "   - lambda * f = c \n",
    "- Strahlungsenergie eines Photons: \n",
    "  - E = h * f"
   ]
  },
  {
   "cell_type": "code",
   "execution_count": 3,
   "id": "a5d40b85",
   "metadata": {},
   "outputs": [],
   "source": [
    "def calc_wavelength_from_freq(radio_frequency: float) -> float:\n",
    "    '''\n",
    "    Input in MHz\n",
    "    '''\n",
    "    frequency = radio_frequency * 10**6\n",
    "    return _c / frequency\n",
    "\n",
    "def calc_freq_from_wavelength(arg: float) -> float:\n",
    "    '''\n",
    "    Input wavelenght in nm\n",
    "    '''\n",
    "    wavelength = arg * 10**-9\n",
    "    return _c / wavelength\n",
    "\n",
    "def calc_energie_from_wwavelength(arg: float) -> float:\n",
    "    '''\n",
    "    Input wavelenght in nm\n",
    "    '''\n",
    "    wavelength = arg * 10**-9\n",
    "    return _h * _c / wavelength"
   ]
  },
  {
   "cell_type": "code",
   "execution_count": 4,
   "id": "c56071f3",
   "metadata": {},
   "outputs": [
    {
     "name": "stdout",
     "output_type": "stream",
     "text": [
      "3.22e+00\n",
      "5.45e+14\n",
      "3.61e-19\n"
     ]
    }
   ],
   "source": [
    "# Examples 5.1\n",
    "\n",
    "scientific_print(calc_wavelength_from_freq(93.3))\n",
    "scientific_print(calc_freq_from_wavelength(550))\n",
    "scientific_print(calc_energie_from_wwavelength(550))"
   ]
  },
  {
   "cell_type": "markdown",
   "id": "690acea5-9e3e-469e-92aa-55532f64713b",
   "metadata": {},
   "source": [
    "### Example 5.2 \n",
    " \n",
    "Thermal Radiation (p.217)\n",
    "\n",
    "- **Stefan-Boltzmann-law**\n",
    "  - P = sigma * A * T^4\n",
    "  - sigma... Stefan-Boltzmann constant\n",
    "  \n",
    "- **Wien's displacement law**\n",
    "  - "
   ]
  },
  {
   "cell_type": "code",
   "execution_count": null,
   "id": "f9411a1a",
   "metadata": {},
   "outputs": [],
   "source": []
  },
  {
   "cell_type": "markdown",
   "id": "fb4a3bc9",
   "metadata": {},
   "source": [
    "# Chapter 14\n",
    "Stars - Nuclear fusion"
   ]
  },
  {
   "cell_type": "code",
   "execution_count": 5,
   "id": "3b6d3b86",
   "metadata": {},
   "outputs": [],
   "source": [
    "# Proton mass\n",
    "p_m = 1.6726 * math.pow(10, -27)\n",
    "\n",
    "# Helium-4 nucleus --> \"mass defect\" of binding energy of nucleons\n",
    "h_nuc = 6.643 * math.pow(10, -27)\n",
    "\n",
    "# \n",
    "l_sun = 3.8 * math.pow(10, 26)\n"
   ]
  },
  {
   "cell_type": "markdown",
   "id": "cc631faf",
   "metadata": {},
   "source": [
    "#### Example 14.1\n",
    "\n",
    "- Mass-energie conversion during nuclear fusion\n",
    "\n",
    "- *Leuchtkrft der Sonne*\n",
    "\n",
    "        - https://www.zum.de/Faecher/Materialien/gebhardt/astronomie/leuchtkraft.html"
   ]
  },
  {
   "cell_type": "code",
   "execution_count": 6,
   "id": "481dac11-6058-41e0-b091-544e66e5acfc",
   "metadata": {},
   "outputs": [],
   "source": [
    "# Relative mass loss during hydrogen-fusion\n",
    "def calc_relative_mass_loss():\n",
    "    diff = 4 * p_m - h_nuc\n",
    "    return (diff)/(4 * p_m)\n",
    "\n"
   ]
  },
  {
   "cell_type": "code",
   "execution_count": 7,
   "id": "53650889-c6db-4a18-83aa-5e7f3414cc67",
   "metadata": {},
   "outputs": [
    {
     "name": "stdout",
     "output_type": "stream",
     "text": [
      "7.08e-01\n"
     ]
    }
   ],
   "source": [
    "# Example 14.1 - 1\n",
    "scientific_print(calc_relative_mass_loss()*100)  # 0.7% of origin proton mass is converted to energy\n",
    "\n",
    "# Example 14.1 - 2 "
   ]
  },
  {
   "cell_type": "markdown",
   "id": "823568f3",
   "metadata": {},
   "source": [
    "#### Example 14.2\n",
    "\n",
    "- \n",
    "- "
   ]
  },
  {
   "cell_type": "code",
   "execution_count": null,
   "id": "e50f30cb",
   "metadata": {},
   "outputs": [],
   "source": []
  },
  {
   "cell_type": "code",
   "execution_count": null,
   "id": "6be5ae20",
   "metadata": {},
   "outputs": [],
   "source": []
  },
  {
   "cell_type": "code",
   "execution_count": null,
   "id": "71b93a30",
   "metadata": {},
   "outputs": [],
   "source": []
  }
 ],
 "metadata": {
  "kernelspec": {
   "display_name": "Python 3 (ipykernel)",
   "language": "python",
   "name": "python3"
  },
  "language_info": {
   "codemirror_mode": {
    "name": "ipython",
    "version": 3
   },
   "file_extension": ".py",
   "mimetype": "text/x-python",
   "name": "python",
   "nbconvert_exporter": "python",
   "pygments_lexer": "ipython3",
   "version": "3.10.4"
  }
 },
 "nbformat": 4,
 "nbformat_minor": 5
}
