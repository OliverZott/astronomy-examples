{
 "cells": [
  {
   "cell_type": "markdown",
   "id": "9ff72fc7",
   "metadata": {},
   "source": [
    "# Astronomie - Die kosmische Perspektive\n",
    "3rd. Edition "
   ]
  },
  {
   "cell_type": "code",
   "execution_count": 19,
   "id": "a3264f12",
   "metadata": {},
   "outputs": [],
   "source": [
    "import math\n"
   ]
  },
  {
   "cell_type": "code",
   "execution_count": 20,
   "id": "07d6bfee",
   "metadata": {},
   "outputs": [],
   "source": [
    "# Gravitational constant\n",
    "_G = 6.674 * math.pow(10, -11)\n",
    "\n",
    "# Speed of light\n",
    "_c = 3 * math.pow(10, 8)\n",
    "\n",
    "# Planck constant\n",
    "_h = 6.626 * math.pow(10, -34)\n",
    "\n",
    "# Stefan-Boltzmann constant\n",
    "_sigma = 5.7 * math.pow(10, -8)\n",
    "\n",
    "\n",
    "def scientific_print(arg: float) -> float:\n",
    "    print(\"{:.2e}\".format(arg))\n"
   ]
  },
  {
   "cell_type": "markdown",
   "id": "ebf62297",
   "metadata": {},
   "source": [
    "## Chapter 4 - Basics\n",
    "\n",
    "- Momentum & Force\n",
    "- Newton's law of motion\n",
    "- Conservation laws: Conservation of...\n",
    "    -  liear momentum\n",
    "    - angular momentum\n",
    "    - energy"
   ]
  },
  {
   "cell_type": "markdown",
   "id": "351930cd",
   "metadata": {},
   "source": [
    "#### Example 4.1 - 2\n",
    "\n",
    "- Newtons 2.nd law \n",
    "    - `F = m * a`\n",
    "- Mass equivalence\n",
    "    - `E = m * c^2`\n",
    "- Escape velocity\n",
    "    - `v_esc = sqrt( 2 * G * M/R )`\n",
    "- Kepler’s 3.rd law (newton)\n",
    "    - `p^2 = (4 * pi^2) / (G * (M_1 + M_1)) * a^3`\n",
    "    - calc mass or distance\n",
    "- Gravitational acceleration\n",
    "    - `a_small = G * (M_big / R^2_big)`  .... e.g. satalite - earth"
   ]
  },
  {
   "cell_type": "code",
   "execution_count": 21,
   "id": "a4f5a591",
   "metadata": {},
   "outputs": [
    {
     "name": "stdout",
     "output_type": "stream",
     "text": [
      "2.40e+03\n"
     ]
    }
   ],
   "source": [
    "# Examples - moon\n",
    "def calc_escape_velocity(mass: float, radius: float) -> float:\n",
    "    v_esc = math.sqrt(2 * _G * mass/radius)\n",
    "    return v_esc\n",
    "\n",
    "\n",
    "moon_mass = 7.346 * 10**22\n",
    "moon_radius = 1.7 * 10**6\n",
    "scientific_print(calc_escape_velocity(moon_mass, moon_radius))\n"
   ]
  },
  {
   "cell_type": "markdown",
   "id": "49e3914d",
   "metadata": {
    "tags": []
   },
   "source": [
    "## Chapter 5 - Light and matter"
   ]
  },
  {
   "cell_type": "markdown",
   "id": "690acea5-9e3e-469e-92aa-55532f64713b",
   "metadata": {},
   "source": [
    " #### Example 5.1\n",
    " \n",
    " Wavelength, Frequency and Energie (p.199)\n",
    "\n",
    " - Vakuum Lichtgeschwindigkeit: \n",
    "   - `lambda * f = c`\n",
    "- Strahlungsenergie eines Photons: \n",
    "  - `E = h * f`"
   ]
  },
  {
   "cell_type": "code",
   "execution_count": 23,
   "id": "a5d40b85",
   "metadata": {},
   "outputs": [],
   "source": [
    "def calc_wavelength_from_freq(radio_frequency: float) -> float:\n",
    "    '''\n",
    "    Input in MHz\n",
    "    '''\n",
    "    frequency = radio_frequency * 10**6\n",
    "    return _c / frequency\n",
    "\n",
    "\n",
    "def calc_freq_from_wavelength(arg: float) -> float:\n",
    "    '''\n",
    "    Input wavelenght in nm\n",
    "    '''\n",
    "    wavelength = arg * 10**-9\n",
    "    return _c / wavelength\n",
    "\n",
    "\n",
    "def calc_energie_from_wwavelength(arg: float) -> float:\n",
    "    '''\n",
    "    Input wavelenght in nm\n",
    "    '''\n",
    "    wavelength = arg * 10**-9\n",
    "    return _h * _c / wavelength\n",
    "\n",
    "\n",
    "# Examples 5.1\n",
    "scientific_print(calc_wavelength_from_freq(93.3))\n",
    "scientific_print(calc_freq_from_wavelength(550))\n",
    "scientific_print(calc_energie_from_wwavelength(550))\n"
   ]
  },
  {
   "cell_type": "code",
   "execution_count": 24,
   "id": "c56071f3",
   "metadata": {},
   "outputs": [
    {
     "name": "stdout",
     "output_type": "stream",
     "text": [
      "3.22e+00\n",
      "5.45e+14\n",
      "3.61e-19\n"
     ]
    }
   ],
   "source": []
  },
  {
   "cell_type": "markdown",
   "id": "8802f968",
   "metadata": {},
   "source": [
    "#### Example 5.2 \n",
    " \n",
    "Thermal Radiation (p.217)\n",
    "\n",
    "- **Stefan-Boltzmann-law**\n",
    "  - `P = sigma * A * T^4`\n",
    "  - sigma... Stefan-Boltzmann constant\n",
    "  \n",
    "- **Wien's displacement law**\n",
    "  - fdfd"
   ]
  },
  {
   "cell_type": "code",
   "execution_count": null,
   "id": "f9411a1a",
   "metadata": {},
   "outputs": [],
   "source": []
  },
  {
   "cell_type": "markdown",
   "id": "fb4a3bc9",
   "metadata": {},
   "source": [
    "# Chapter 14 - Nuclear fusion in stars"
   ]
  },
  {
   "cell_type": "code",
   "execution_count": 25,
   "id": "3b6d3b86",
   "metadata": {},
   "outputs": [],
   "source": [
    "# Proton mass\n",
    "p_m = 1.6726 * math.pow(10, -27)\n",
    "\n",
    "# Helium-4 nucleus --> \"mass defect\" of binding energy of nucleons\n",
    "h_nuc = 6.643 * math.pow(10, -27)\n",
    "\n",
    "# Luminosity of sun (total amount of electromagnetic energy emitted per unit of time [Joule/sec])\n",
    "l_sun = 3.8 * math.pow(10, 26)\n"
   ]
  },
  {
   "cell_type": "markdown",
   "id": "cc631faf",
   "metadata": {},
   "source": [
    "#### Example 14.1\n",
    "\n",
    "- Mass-energie conversion during nuclear fusion\n",
    "\n",
    "- *Leuchtkrft der Sonne*\n",
    "\n",
    "        - https://www.zum.de/Faecher/Materialien/gebhardt/astronomie/leuchtkraft.html"
   ]
  },
  {
   "cell_type": "code",
   "execution_count": 26,
   "id": "481dac11-6058-41e0-b091-544e66e5acfc",
   "metadata": {},
   "outputs": [],
   "source": [
    "# Relative mass loss during hydrogen-fusion\n",
    "def calc_relative_mass_loss():\n",
    "    diff = 4 * p_m - h_nuc\n",
    "    return (diff)/(4 * p_m)\n",
    "\n",
    "\n",
    "def calc_ammount_oxygen_to_helium():\n",
    "    m = l_sun / _c\n"
   ]
  },
  {
   "cell_type": "code",
   "execution_count": 27,
   "id": "53650889-c6db-4a18-83aa-5e7f3414cc67",
   "metadata": {},
   "outputs": [
    {
     "name": "stdout",
     "output_type": "stream",
     "text": [
      "7.08e-01\n"
     ]
    }
   ],
   "source": [
    "# 0.7% of origin proton mass is converted to energy\n",
    "scientific_print(calc_relative_mass_loss()*100)\n",
    "\n",
    "# Example 14.1 - 1\n"
   ]
  },
  {
   "cell_type": "markdown",
   "id": "823568f3",
   "metadata": {},
   "source": [
    "#### Example 14.2\n",
    "\n",
    "- \n",
    "- "
   ]
  },
  {
   "cell_type": "code",
   "execution_count": null,
   "id": "e50f30cb",
   "metadata": {},
   "outputs": [],
   "source": []
  },
  {
   "cell_type": "code",
   "execution_count": null,
   "id": "6be5ae20",
   "metadata": {},
   "outputs": [],
   "source": []
  },
  {
   "cell_type": "code",
   "execution_count": null,
   "id": "71b93a30",
   "metadata": {},
   "outputs": [],
   "source": []
  }
 ],
 "metadata": {
  "kernelspec": {
   "display_name": "Python 3 (ipykernel)",
   "language": "python",
   "name": "python3"
  },
  "language_info": {
   "codemirror_mode": {
    "name": "ipython",
    "version": 3
   },
   "file_extension": ".py",
   "mimetype": "text/x-python",
   "name": "python",
   "nbconvert_exporter": "python",
   "pygments_lexer": "ipython3",
   "version": "3.10.4"
  }
 },
 "nbformat": 4,
 "nbformat_minor": 5
}
